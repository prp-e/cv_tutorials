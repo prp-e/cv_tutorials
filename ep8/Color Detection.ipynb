{
 "cells": [
  {
   "cell_type": "code",
   "execution_count": 1,
   "id": "widespread-fantasy",
   "metadata": {},
   "outputs": [],
   "source": [
    "import cv2"
   ]
  },
  {
   "cell_type": "markdown",
   "id": "incident-connecticut",
   "metadata": {},
   "source": [
    "## Color Schemes\n",
    "\n",
    "1. Less than 78 : Green\n",
    "2. Less than 131 : Blue\n",
    "3. Red? Let's find out ... "
   ]
  },
  {
   "cell_type": "code",
   "execution_count": 2,
   "id": "complex-worcester",
   "metadata": {},
   "outputs": [],
   "source": [
    "camera = cv2.VideoCapture(1)\n",
    "\n",
    "while camera.isOpened():\n",
    "    _, frame = camera.read()\n",
    "    \n",
    "    cv2.imshow(\"Camera Feed\", frame)\n",
    "    if cv2.waitKey(1) & 0xff == ord('q'):\n",
    "        break\n",
    "        \n",
    "camera.release()\n",
    "cv2.destroyAllWindows()"
   ]
  },
  {
   "cell_type": "markdown",
   "id": "portuguese-jimmy",
   "metadata": {},
   "source": [
    "# Getting the center point"
   ]
  },
  {
   "cell_type": "code",
   "execution_count": 8,
   "id": "preceding-hardwood",
   "metadata": {},
   "outputs": [],
   "source": [
    "camera = cv2.VideoCapture(1)\n",
    "\n",
    "cx, cy = 1280 / 2, 720 / 2\n",
    "\n",
    "\n",
    "while camera.isOpened():\n",
    "    _, frame = camera.read()\n",
    "    \n",
    "    cv2.circle(frame, (int(cx), int(cy)), 5, (0, 0, 0), 1)\n",
    "    \n",
    "    cv2.imshow(\"Camera Feed\", frame)\n",
    "    if cv2.waitKey(1) & 0xff == ord('q'):\n",
    "        break\n",
    "        \n",
    "camera.release()\n",
    "cv2.destroyAllWindows()"
   ]
  },
  {
   "cell_type": "markdown",
   "id": "broad-wisconsin",
   "metadata": {},
   "source": [
    "# Getting BGR value"
   ]
  },
  {
   "cell_type": "code",
   "execution_count": 29,
   "id": "advanced-replication",
   "metadata": {},
   "outputs": [],
   "source": [
    "camera = cv2.VideoCapture(1)\n",
    "\n",
    "while camera.isOpened():\n",
    "    _, frame = camera.read()\n",
    "    \n",
    "    cx, cy = 1280 / 2, 720 / 2\n",
    "    bgr_frame = frame[int(cy), int(cx)]\n",
    "    \n",
    "    cv2.circle(frame, (int(cx), int(cy)), 5, (0, 0, 0), 1)\n",
    "    \n",
    "    cv2.putText(frame, \"Blue: \" + str(bgr_frame[0]), (10, 80), cv2.FONT_HERSHEY_COMPLEX, 2, (255, 0, 0), 2)\n",
    "    cv2.putText(frame, \"Green: \" + str(bgr_frame[1]), (10, 150), cv2.FONT_HERSHEY_COMPLEX, 2, (0, 255, 0), 2)\n",
    "    cv2.putText(frame, \"Red: \" + str(bgr_frame[2]), (10, 220), cv2.FONT_HERSHEY_COMPLEX, 2, (0, 0, 255), 2)\n",
    "    \n",
    "    cv2.putText(frame, \"COLOR\", (10, 290), cv2.FONT_HERSHEY_COMPLEX, 2, (int(bgr_frame[0]), int(bgr_frame[1]), int(bgr_frame[2])), 2)\n",
    "    \n",
    "    cv2.imshow(\"Camera Feed\", frame)\n",
    "    if cv2.waitKey(1) & 0xff == ord('q'):\n",
    "        break\n",
    "        \n",
    "camera.release()\n",
    "cv2.destroyAllWindows()"
   ]
  },
  {
   "cell_type": "code",
   "execution_count": 33,
   "id": "hawaiian-elder",
   "metadata": {},
   "outputs": [],
   "source": [
    "camera.release()\n",
    "cv2.destroyAllWindows()"
   ]
  },
  {
   "cell_type": "markdown",
   "id": "neither-slope",
   "metadata": {},
   "source": [
    "# HSV Color Detection"
   ]
  },
  {
   "cell_type": "code",
   "execution_count": 36,
   "id": "bearing-listening",
   "metadata": {},
   "outputs": [],
   "source": [
    "camera = cv2.VideoCapture(1)\n",
    "\n",
    "while camera.isOpened():\n",
    "    _, frame = camera.read()\n",
    "    \n",
    "    cx, cy = 1280 / 2, 720 / 2\n",
    "    bgr_frame = frame[int(cy), int(cx)]\n",
    "    \n",
    "    hsv_image = cv2.cvtColor(frame, cv2.COLOR_BGR2HSV)\n",
    "    hsv_frame = hsv_image[int(cy), int(cx)]\n",
    "    \n",
    "    cv2.circle(frame, (int(cx), int(cy)), 5, (0, 0, 0), 1)\n",
    "    \n",
    "    cv2.putText(frame, \"Blue: \" + str(bgr_frame[0]), (10, 80), cv2.FONT_HERSHEY_COMPLEX, 2, (255, 0, 0), 2)\n",
    "    cv2.putText(frame, \"Green: \" + str(bgr_frame[1]), (10, 150), cv2.FONT_HERSHEY_COMPLEX, 2, (0, 255, 0), 2)\n",
    "    cv2.putText(frame, \"Red: \" + str(bgr_frame[2]), (10, 220), cv2.FONT_HERSHEY_COMPLEX, 2, (0, 0, 255), 2)\n",
    "    \n",
    "    cv2.putText(frame, \"COLOR\", (10, 290), cv2.FONT_HERSHEY_COMPLEX, 2, (int(bgr_frame[0]), int(bgr_frame[1]), int(bgr_frame[2])), 2)\n",
    "    \n",
    "    indicator = hsv_frame[0]\n",
    "    \n",
    "    if indicator < 78:\n",
    "        cv2.putText(frame, \"Green\", (10, 360), cv2.FONT_HERSHEY_COMPLEX, 2, (0, 0, 0), 2)\n",
    "    elif indicator < 131:\n",
    "        cv2.putText(frame, \"Blue\", (10, 360), cv2.FONT_HERSHEY_COMPLEX, 2, (0, 0, 0), 2)\n",
    "    elif indicator < 170:\n",
    "        cv2.putText(frame, \"Violet\", (10, 360), cv2.FONT_HERSHEY_COMPLEX, 2, (0, 0, 0), 2)\n",
    "    else:\n",
    "        cv2.putText(frame, \"Red\", (10, 360), cv2.FONT_HERSHEY_COMPLEX, 2, (0, 0, 0), 2)\n",
    "        \n",
    "    \n",
    "    cv2.imshow(\"Camera Feed\", frame)\n",
    "    if cv2.waitKey(1) & 0xff == ord('q'):\n",
    "        break\n",
    "        \n",
    "camera.release()\n",
    "cv2.destroyAllWindows()"
   ]
  },
  {
   "cell_type": "code",
   "execution_count": null,
   "id": "announced-exchange",
   "metadata": {},
   "outputs": [],
   "source": []
  }
 ],
 "metadata": {
  "kernelspec": {
   "display_name": "Python 3",
   "language": "python",
   "name": "python3"
  },
  "language_info": {
   "codemirror_mode": {
    "name": "ipython",
    "version": 3
   },
   "file_extension": ".py",
   "mimetype": "text/x-python",
   "name": "python",
   "nbconvert_exporter": "python",
   "pygments_lexer": "ipython3",
   "version": "3.8.6"
  }
 },
 "nbformat": 4,
 "nbformat_minor": 5
}
